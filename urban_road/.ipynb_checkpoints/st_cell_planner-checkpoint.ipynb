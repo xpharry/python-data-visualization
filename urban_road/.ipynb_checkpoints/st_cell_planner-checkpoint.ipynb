{
 "cells": [
  {
   "cell_type": "code",
   "execution_count": 1,
   "metadata": {},
   "outputs": [],
   "source": [
    "%matplotlib inline\n",
    "import matplotlib\n",
    "import numpy as np\n",
    "import matplotlib.pyplot as plt\n",
    "import matplotlib.patches as patches\n",
    "from math import sin, cos, atan2, sqrt, fabs, pi\n",
    "from collections import defaultdict"
   ]
  },
  {
   "cell_type": "code",
   "execution_count": 2,
   "metadata": {},
   "outputs": [
    {
     "data": {
      "image/png": "[encoded data removed]",
      "text/plain": [
       "<Figure size 720x720 with 1 Axes>"
      ]
     },
     "metadata": {
      "needs_background": "light"
     },
     "output_type": "display_data"
    }
   ],
   "source": [
    "s_range = 100\n",
    "t_range = 20\n",
    "n_intervals = int(t_range)\n",
    "length = 4.93\n",
    "\n",
    "timeline = np.linspace(0, t_range, n_intervals)\n",
    "\n",
    "# occupied_areas = [[2, 60, 8, 80], [5, 28, 20, 57]]\n",
    "\n",
    "# Obstacle 1\n",
    "# t & s\n",
    "# 28.49822943032939 17.0\n",
    "# 32.850470685656695 20\n",
    "# Obstacle 2\n",
    "# t & s\n",
    "# 28.49822943032939 9.5\n",
    "# 47.850470685656695 20\n",
    "# 3\n",
    "# 28.49822943032939 2.0\n",
    "# 62.850470685656695 20\n",
    "occupied_areas = [[17.0, 28.49822943032939, 20, 32.850470685656695],\n",
    "                  [9.5, 28.49822943032939, 20, 47.850470685656695],\n",
    "                  [2.0, 28.49822943032939, 20, 62.850470685656695]]\n",
    "\n",
    "# occupied cells\n",
    "occupied_cells = defaultdict(list)\n",
    "\n",
    "candidate_cells = defaultdict(list)\n",
    "\n",
    "\n",
    "\"\"\" degub plot \"\"\" \n",
    "\n",
    "fig = plt.figure(figsize=(10,10))\n",
    "ax = fig.add_subplot(111)\n",
    "ax.set_xlim(0, t_range)\n",
    "ax.set_ylim(0, s_range)\n",
    "plt.title('ST Graph')\n",
    "\n",
    "for e in timeline:\n",
    "    plt.axvline(e, ymax=1, color='k', linewidth=1) \n",
    "\n",
    "for area in occupied_areas:\n",
    "    t_in, s_in = area[0], area[1]\n",
    "    t_out, s_out = area[2], area[3]\n",
    "\n",
    "    # Parallelogram\n",
    "    x = [t_in, t_in, t_out, t_out]\n",
    "    y = [s_in - length / 2, s_in + length / 2, \n",
    "         s_out + length / 2, s_out - length / 2]\n",
    "    ax.add_patch(patches.Polygon(xy=list(zip(x,y)), fill=True, color='r'))\n",
    "\n",
    "# sort occupied areas with cut in time, then use sweep line method\n",
    "for area in occupied_areas:\n",
    "    t_in, s_in, t_out, s_out = area[0], area[1], area[2], area[3]\n",
    "    \n",
    "    # postion left boundary\n",
    "    left = 0\n",
    "    while timeline[left] < t_in:\n",
    "        left += 1\n",
    "\n",
    "    # postion right boundary\n",
    "    right = len(timeline) - 1\n",
    "    while timeline[right] > t_out:\n",
    "        right -= 1\n",
    "        \n",
    "    if t_in < timeline[left]:\n",
    "        if not occupied_cells[left-1]:\n",
    "            occupied_cells[left-1] = []\n",
    "        s1 = s_in\n",
    "        s2 = np.interp(timeline[left], [t_in, t_out], [s_in, s_out])\n",
    "        s_min = s1 - length / 2\n",
    "        s_max = s2 + length / 2\n",
    "        occupied_cells[left-1].append([s_min, s_max])\n",
    "        ax.plot([timeline[left-1], timeline[left]], [s_min, s_min], 'b-')\n",
    "        ax.plot([timeline[left-1], timeline[left]], [s_max, s_max], 'b-')\n",
    "        \n",
    "    for i in range(left, right):\n",
    "        s1 = np.interp(timeline[i], [t_in, t_out], [s_in, s_out])\n",
    "        s2 = np.interp(timeline[i+1], [t_in, t_out], [s_in, s_out])\n",
    "        s_min = s1 - length / 2\n",
    "        s_max = s2 + length / 2\n",
    "        ax.plot([timeline[i], timeline[i+1]], [s_min, s_min], 'b-')\n",
    "        ax.plot([timeline[i], timeline[i+1]], [s_max, s_max], 'b-')\n",
    "        \n",
    "        if not occupied_cells[i]:\n",
    "            occupied_cells[i] = []\n",
    "        occupied_cells[i].append([s_min, s_max])    \n",
    "\n",
    "    if t_out > timeline[right]:\n",
    "        if not occupied_cells[right]:\n",
    "            occupied_cells[right] = []\n",
    "        s1 = np.interp(timeline[right], [t_in, t_out], [s_in, s_out])\n",
    "        s2 = s_out\n",
    "        s_min = s1 - length / 2\n",
    "        s_max = s2 + length / 2\n",
    "        occupied_cells[right].append([s_min, s_max])\n",
    "        ax.plot([timeline[right], timeline[right+1]], [s_min, s_min], 'b-')\n",
    "        ax.plot([timeline[right], timeline[right+1]], [s_max, s_max], 'b-')\n",
    "        \n",
    "for i in range(len(timeline)-1):\n",
    "    # print(timeline[i])\n",
    "    entries = [0.0]\n",
    "    boundaries = [0.0]\n",
    "    if i in occupied_cells.keys():\n",
    "        cells = occupied_cells[i]\n",
    "        cells = sorted(cells, key = lambda x: x[0]) \n",
    "        for cell in cells:\n",
    "            s_min = cell[0]\n",
    "            s_max = cell[1]\n",
    "            entries[-1] = ( entries[-1] + cell[0] ) / 2.0\n",
    "            entries.append(cell[1])\n",
    "            \n",
    "            candidate_cells[i].append([boundaries[-1], cell[0]])\n",
    "            \n",
    "            boundaries.append(cell[0])\n",
    "            boundaries.append(cell[1])\n",
    "            \n",
    "    entries[-1] = ( entries[-1] + 100.0 ) / 2.0\n",
    "    candidate_cells[i].append([boundaries[-1], 100.0])\n",
    "    \n",
    "    ax.scatter([(timeline[i] + timeline[i+1])/2]*len(entries), entries, color='y')\n",
    "\n",
    "plt.show()"
   ]
  },
  {
   "cell_type": "code",
   "execution_count": 3,
   "metadata": {},
   "outputs": [
    {
     "name": "stdout",
     "output_type": "stream",
     "text": [
      "10\n"
     ]
    }
   ],
   "source": [
    "print(len(occupied_cells))"
   ]
  },
  {
   "cell_type": "code",
   "execution_count": 4,
   "metadata": {},
   "outputs": [
    {
     "data": {
      "image/png": "[encoded data removed]",
      "text/plain": [
       "<Figure size 720x720 with 1 Axes>"
      ]
     },
     "metadata": {
      "needs_background": "light"
     },
     "output_type": "display_data"
    }
   ],
   "source": [
    "\"\"\" degub plot \"\"\" \n",
    "\n",
    "fig = plt.figure(figsize=(10,10))\n",
    "ax = fig.add_subplot(111)\n",
    "ax.set_xlim(0, t_range)\n",
    "ax.set_ylim(0, s_range)\n",
    "plt.title('ST Graph')\n",
    "\n",
    "for e in timeline:\n",
    "    plt.axvline(e, ymax=1, color='k', linewidth=1) \n",
    "\n",
    "for i in range(len(timeline)-1):\n",
    "    cells = candidate_cells[i]\n",
    "    cells = sorted(cells, key = lambda x: x[0]) \n",
    "    for cell in cells:\n",
    "        s_min = cell[0]\n",
    "        s_max = cell[1]\n",
    "        ax.plot([timeline[i], timeline[i+1]], [s_min, s_min], 'b-')\n",
    "        ax.plot([timeline[i], timeline[i+1]], [s_max, s_max], 'b-')\n",
    "        ax.scatter([(timeline[i] + timeline[i+1])/2], (s_min + s_max)/2.0, color='y')\n",
    "    \n",
    "plt.show()"
   ]
  },
  {
   "cell_type": "code",
   "execution_count": 5,
   "metadata": {},
   "outputs": [
    {
     "name": "stdout",
     "output_type": "stream",
     "text": [
      "19\n",
      "<class 'list'>\n"
     ]
    }
   ],
   "source": [
    "print(len(candidate_cells))\n",
    "print(type(list(candidate_cells)))"
   ]
  },
  {
   "cell_type": "code",
   "execution_count": 6,
   "metadata": {},
   "outputs": [],
   "source": [
    "\n",
    "def overlap(cell_a, cell_b):\n",
    "    if cell_a[1] < cell_b[0] or cell_a[0] > cell_b[1]:\n",
    "        return False\n",
    "    return True"
   ]
  },
  {
   "cell_type": "code",
   "execution_count": 7,
   "metadata": {},
   "outputs": [
    {
     "data": {
      "text/plain": [
       "[[0.0, 100.0]]"
      ]
     },
     "execution_count": 7,
     "metadata": {},
     "output_type": "execute_result"
    }
   ],
   "source": [
    "candidate_cells[0]"
   ]
  },
  {
   "cell_type": "code",
   "execution_count": 8,
   "metadata": {},
   "outputs": [
    {
     "name": "stdout",
     "output_type": "stream",
     "text": [
      "3\n"
     ]
    }
   ],
   "source": [
    "# bfs\n",
    "candidate_plans = []\n",
    "\n",
    "candidate_plans.append(candidate_cells[0])\n",
    "\n",
    "for i in range(1, len(timeline)-1):\n",
    "    temp = []\n",
    "    for plan in candidate_plans:\n",
    "        prev_cell = plan[-1]\n",
    "        for cell in candidate_cells[i]:\n",
    "            if overlap(prev_cell, cell):\n",
    "#                 plan.append(cell)\n",
    "                temp.append(plan + [cell])\n",
    "    candidate_plans = temp\n",
    "\n",
    "print(len(candidate_plans))\n",
    " \n",
    "    "
   ]
  },
  {
   "cell_type": "code",
   "execution_count": 9,
   "metadata": {},
   "outputs": [
    {
     "name": "stdout",
     "output_type": "stream",
     "text": [
      "0.0 100.0\n",
      "0.0 100.0\n",
      "0.0 100.0\n",
      "0.0 100.0\n",
      "0.0 100.0\n",
      "0.0 100.0\n",
      "0.0 100.0\n",
      "0.0 100.0\n",
      "0.0 100.0\n",
      "0.0 26.03322943032939\n",
      "0.0 27.92480188385762\n",
      "0.0 29.86487619516863\n",
      "0.0 31.80495050647964\n",
      "0.0 33.74502481779065\n",
      "0.0 35.68509912910166\n",
      "0.0 37.62517344041267\n",
      "0.0 26.03322943032939\n",
      "0.0 27.331266295953323\n",
      "0.0 28.858368490805006\n",
      "\n",
      "0.0 100.0\n",
      "0.0 100.0\n",
      "0.0 100.0\n",
      "0.0 100.0\n",
      "0.0 100.0\n",
      "0.0 100.0\n",
      "0.0 100.0\n",
      "0.0 100.0\n",
      "0.0 100.0\n",
      "0.0 26.03322943032939\n",
      "0.0 27.92480188385762\n",
      "0.0 29.86487619516863\n",
      "0.0 31.80495050647964\n",
      "0.0 33.74502481779065\n",
      "0.0 35.68509912910166\n",
      "0.0 37.62517344041267\n",
      "32.26126629595332 39.565247751723675\n",
      "33.788368490805006 41.50532206303468\n",
      "35.31547068565669 43.44539637434568\n",
      "\n",
      "0.0 100.0\n",
      "0.0 100.0\n",
      "0.0 100.0\n",
      "0.0 100.0\n",
      "0.0 100.0\n",
      "0.0 100.0\n",
      "0.0 100.0\n",
      "0.0 100.0\n",
      "0.0 100.0\n",
      "32.85480188385762 100.0\n",
      "34.79487619516863 100.0\n",
      "36.734950506479635 100.0\n",
      "38.67502481779064 100.0\n",
      "40.61509912910165 100.0\n",
      "42.55517344041266 100.0\n",
      "44.49524775172367 100.0\n",
      "46.435322063034675 100.0\n",
      "48.375396374345684 100.0\n",
      "50.31547068565669 100.0\n",
      "\n"
     ]
    },
    {
     "data": {
      "image/png": "[encoded data removed]",
      "text/plain": [
       "<Figure size 1080x360 with 3 Axes>"
      ]
     },
     "metadata": {
      "needs_background": "light"
     },
     "output_type": "display_data"
    }
   ],
   "source": [
    "\"\"\" degub plot \"\"\" \n",
    "ax = [None, None, None]\n",
    "\n",
    "fig = plt.figure(figsize=(15,5))\n",
    "ax[0] = fig.add_subplot(131)\n",
    "ax[1] = fig.add_subplot(132)\n",
    "ax[2] = fig.add_subplot(133)\n",
    "\n",
    "for i in range(3):\n",
    "    ax[i].set_xlim(0, t_range)\n",
    "    ax[i].set_ylim(0, s_range)\n",
    "\n",
    "    for e in timeline:\n",
    "        ax[i].axvline(e, ymax=1, color='k', linewidth=1) \n",
    "\n",
    "colors = ['r', 'g', 'b']\n",
    "i = 0\n",
    "for plan in candidate_plans:\n",
    "    for t, cell in enumerate(plan):\n",
    "        if t+1 > len(plan):\n",
    "            continue\n",
    "        # Parallelogram\n",
    "        x = [timeline[t], timeline[t], timeline[t+1], timeline[t+1]]\n",
    "        y = [cell[0], cell[1], cell[1], cell[0]]\n",
    "        print(cell[0], cell[1])\n",
    "        ax[i].add_patch(patches.Polygon(xy=list(zip(x,y)), fill=True, color=colors[i]))\n",
    "    i += 1\n",
    "    print()\n",
    "    \n",
    "plt.show()"
   ]
  },
  {
   "cell_type": "code",
   "execution_count": 10,
   "metadata": {},
   "outputs": [
    {
     "data": {
      "image/png": "[encoded data removed]",
      "text/plain": [
       "<Figure size 720x720 with 1 Axes>"
      ]
     },
     "metadata": {
      "needs_background": "light"
     },
     "output_type": "display_data"
    }
   ],
   "source": [
    "candidate_lines = []\n",
    "\n",
    "for plan in candidate_plans:\n",
    "    line_x = [0.0]\n",
    "    line_y = [0.0]\n",
    "    for i in range(len(timeline)-1):\n",
    "        cell = plan[i]\n",
    "        line_x.append( (timeline[i] + timeline[i+1])/2 )\n",
    "        line_y.append( (cell[0]+cell[1]) / 2 )\n",
    "    candidate_lines.append([line_x, line_y])\n",
    "    \n",
    "\"\"\" degub plot \"\"\" \n",
    "\n",
    "fig = plt.figure(figsize=(10,10))\n",
    "ax = fig.add_subplot(111)\n",
    "ax.set_xlim(0, t_range)\n",
    "ax.set_ylim(0, s_range)\n",
    "plt.title('ST Graph')\n",
    "\n",
    "for e in timeline:\n",
    "    plt.axvline(e, ymax=1, color='k', linewidth=1) \n",
    "\n",
    "for i in range(len(timeline)-1):\n",
    "    cells = candidate_cells[i]\n",
    "    cells = sorted(cells, key = lambda x: x[0]) \n",
    "    for cell in cells:\n",
    "        s_min = cell[0]\n",
    "        s_max = cell[1]\n",
    "        ax.plot([timeline[i], timeline[i+1]], [s_min, s_min], 'b-')\n",
    "        ax.plot([timeline[i], timeline[i+1]], [s_max, s_max], 'b-')\n",
    "        ax.scatter([(timeline[i] + timeline[i+1])/2], (s_min + s_max)/2.0, color='y')\n",
    "\n",
    "for line in candidate_lines:\n",
    "    ax.plot(line[0], line[1])\n",
    "        \n",
    "plt.show()"
   ]
  },
  {
   "cell_type": "code",
   "execution_count": null,
   "metadata": {},
   "outputs": [],
   "source": []
  },
  {
   "cell_type": "code",
   "execution_count": null,
   "metadata": {},
   "outputs": [],
   "source": []
  }
 ],
 "metadata": {
  "kernelspec": {
   "display_name": "Python 3",
   "language": "python",
   "name": "python3"
  },
  "language_info": {
   "codemirror_mode": {
    "name": "ipython",
    "version": 3
   },
   "file_extension": ".py",
   "mimetype": "text/x-python",
   "name": "python",
   "nbconvert_exporter": "python",
   "pygments_lexer": "ipython3",
   "version": "3.6.8"
  }
 },
 "nbformat": 4,
 "nbformat_minor": 2
}
